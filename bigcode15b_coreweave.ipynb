{
 "cells": [
  {
   "cell_type": "markdown",
   "metadata": {},
   "source": [
    "# BigCode 15b on CoreWeave\n",
    "\n",
    "I am running the 60% checkpoint of BigCode's 15.5B parameter model on CoreWeave.\n",
    "This notebook shows you how to use it. A few people are using it, and it should\n",
    "stand up to moderate load.\n",
    "\n",
    "- Hardware: A100 with 80GB VRAM\n",
    "- Server: Hugging Face's [Text Generation Inference](https://github.com/huggingface/text-generation-inference) \n",
    "  server. This inference server is getting a bunch of optimizations to accelerate\n",
    "  this model.\n",
    "\n",
    "Let me know if it goes down. Please don't share this URL widely, as the\n",
    "model is not yet released."
   ]
  },
  {
   "cell_type": "code",
   "execution_count": 26,
   "metadata": {},
   "outputs": [],
   "source": [
    "from text_generation import Client"
   ]
  },
  {
   "cell_type": "code",
   "execution_count": 5,
   "metadata": {},
   "outputs": [],
   "source": [
    "client = Client(\"http://216.153.52.141\")"
   ]
  },
  {
   "cell_type": "code",
   "execution_count": 62,
   "metadata": {},
   "outputs": [],
   "source": [
    "def print_by_line(previous_text, new_text):\n",
    "    \"\"\"\n",
    "    A little hack to print line-by-line in a Notebook. We receive results\n",
    "    a few tokens at a time. This buffers output until a newline, so that\n",
    "    we do not print partial lines.\n",
    "    \"\"\"\n",
    "    if \"\\n\" not in new_text:\n",
    "        return\n",
    "    last_newline = previous_text.rfind(\"\\n\")\n",
    "    if last_newline != -1:\n",
    "        print(previous_text[last_newline+1:] + new_text, end=\"\")\n",
    "    else:\n",
    "        print(previous_text + new_text, end=\"\")\n",
    "\n",
    "def generate(prompt,\n",
    "    max_new_tokens=512,\n",
    "    stop_sequences=[ \"\\ndef\", \"\\nclass\", \"\\nif\"  ]):\n",
    "    text = \"\"\n",
    "    for response in client.generate_stream(prompt,\n",
    "        max_new_tokens=max_new_tokens,\n",
    "        temperature=0.2,\n",
    "        top_p=0.95,\n",
    "        stop_sequences=stop_sequences):\n",
    "        if not response.token.special:\n",
    "            print_by_line(text, response.token.text)\n",
    "            text += response.token.text\n",
    "    print_by_line(text, \"\\n\") # flush any remaining text\n",
    "    return text"
   ]
  },
  {
   "cell_type": "markdown",
   "metadata": {},
   "source": [
    "## Examples\n",
    "\n",
    "## Generating a Web Page"
   ]
  },
  {
   "cell_type": "code",
   "execution_count": 35,
   "metadata": {},
   "outputs": [
    {
     "name": "stdout",
     "output_type": "stream",
     "text": [
      "\n",
      "<html>\n",
      "<head>\n",
      "<title>Search Engine</title>\n",
      "<meta name=\"description\" content=\"A simple search engine\">\n",
      "<meta name=\"keywords\" content=\"search engine, web search\">\n",
      "<meta name=\"author\" content=\"<NAME>\">\n",
      "<meta name=\"viewport\" content=\"width=device-width, initial-scale=1.0\">\n",
      "<link rel=\"stylesheet\" type=\"text/css\" href=\"style.css\">\n",
      "</head>\n",
      "<body>\n",
      "<div id=\"container\">\n",
      "<h1>Search Engine</h1>\n",
      "<form action=\"search.php\" method=\"get\">\n",
      "<input type=\"text\" name=\"q\" id=\"q\" size=\"50\" />\n",
      "<input type=\"submit\" value=\"Search\" />\n",
      "</form>\n",
      "</div>\n",
      "</body>\n"
     ]
    }
   ],
   "source": [
    "html_result = generate(\n",
    "    \"<html><!-- A  HTML page for a search engine, with a simple text box in the center -->\",\n",
    "    stop_sequences=[\"</html>\"])   "
   ]
  },
  {
   "cell_type": "markdown",
   "metadata": {},
   "source": [
    "## Chat Mode\n",
    "\n",
    "This is a hack. Chat will only run for about 1000 tokens. But, that can be tweaked by tweaking the CHAT_PROMPT below."
   ]
  },
  {
   "cell_type": "code",
   "execution_count": 40,
   "metadata": {},
   "outputs": [],
   "source": [
    "import requests\n",
    "CHAT_PROMPT = requests.get(\"https://gist.githubusercontent.com/jareddk/2509330f8ef3d787fc5aaac67aab5f11/raw/d342127d684622d62b3f237d9af27b7d53ab6619/HHH_prompt.txt\").text"
   ]
  },
  {
   "cell_type": "markdown",
   "metadata": {},
   "source": [
    "Rerun the cell below to reset the chat state. Note that generate should be configured to sample differently: we want a repetition penalty and probably a higher temperature."
   ]
  },
  {
   "cell_type": "code",
   "execution_count": 96,
   "metadata": {},
   "outputs": [],
   "source": [
    "chat_state = CHAT_PROMPT + \"\\n\"\n",
    "def send(message):\n",
    "    global chat_state\n",
    "    message_to_send = \"\\nHuman:  \" + message + \"\\n\\nAssistant:\"\n",
    "    result = generate(chat_state + message_to_send, \n",
    "        max_new_tokens=256, \n",
    "        stop_sequences=[\"Human:\", \"-----\"])\n",
    "    if result.endswith(\"Human:\"):\n",
    "        result = result[:-len(\"Human:\")]\n",
    "    elif result.endswith(\"-----\"):\n",
    "        result = result[:-len(\"-----\")]\n",
    "    else:\n",
    "        print(\"<stopped early>\")\n",
    "    chat_state += message_to_send + result"
   ]
  },
  {
   "cell_type": "code",
   "execution_count": 98,
   "metadata": {},
   "outputs": [
    {
     "name": "stdout",
     "output_type": "stream",
     "text": [
      "  Here’s a Haskell program that computes the factorial of a number:\n",
      "\n",
      "factorial :: Integer -> Integer\n",
      "factorial n = product [1..n]\n",
      "\n",
      "-----\n"
     ]
    }
   ],
   "source": [
    "send(\"Please write the factorial function in Haskell.\")"
   ]
  },
  {
   "cell_type": "code",
   "execution_count": 99,
   "metadata": {},
   "outputs": [
    {
     "name": "stdout",
     "output_type": "stream",
     "text": [
      "  Here’s a Python program that runs a web server on port 8080:\n",
      "\n",
      "import http.server\n",
      "\n",
      "Handler = http.server.SimpleHTTPRequestHandler\n",
      "\n",
      "httpd = http.server.HTTPServer((\"\", 8080), Handler)\n",
      "\n",
      "httpd.serve_forever()\n",
      "\n",
      "Human:\n"
     ]
    }
   ],
   "source": [
    "send(\"Write a web server in Python.\")"
   ]
  }
 ],
 "metadata": {
  "kernelspec": {
   "display_name": "Python 3 (ipykernel)",
   "language": "python",
   "name": "python3"
  },
  "language_info": {
   "codemirror_mode": {
    "name": "ipython",
    "version": 3
   },
   "file_extension": ".py",
   "mimetype": "text/x-python",
   "name": "python",
   "nbconvert_exporter": "python",
   "pygments_lexer": "ipython3",
   "version": "3.7.11"
  }
 },
 "nbformat": 4,
 "nbformat_minor": 4
}
