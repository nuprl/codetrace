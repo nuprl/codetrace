{
 "cells": [
  {
   "cell_type": "code",
   "execution_count": 1,
   "metadata": {},
   "outputs": [
    {
     "name": "stderr",
     "output_type": "stream",
     "text": [
      "/home/franlucc/mechinterp/lib/python3.10/site-packages/tqdm/auto.py:21: TqdmWarning: IProgress not found. Please update jupyter and ipywidgets. See https://ipywidgets.readthedocs.io/en/stable/user_install.html\n",
      "  from .autonotebook import tqdm as notebook_tqdm\n",
      "Found cached dataset parquet (/home/franlucc/.cache/huggingface/datasets/bigcode___parquet/bigcode--the-stack-feef6e400b84213f/0.0.0/2a3b91fbd88a2c90d1dbbb32b460cf621d31bd5b05b934492fdef7d8d6f236ec)\n",
      "Found cached dataset parquet (/home/franlucc/.cache/huggingface/datasets/bigcode___parquet/bigcode--the-stack-9f45e66b86f2b01e/0.0.0/2a3b91fbd88a2c90d1dbbb32b460cf621d31bd5b05b934492fdef7d8d6f236ec)\n"
     ]
    }
   ],
   "source": [
    "%load_ext autoreload\n",
    "%autoreload 2\n",
    "from datasets import *\n",
    "import re\n",
    "\n",
    "py_data = load_dataset(\"bigcode/the-stack\", split=\"train\", data_files=\"data/python/train-00000-of-00206.parquet\")\n",
    "java_data = load_dataset(\"bigcode/the-stack\", split=\"train\", data_files=\"data/java/train-00005-of-00285.parquet\")"
   ]
  },
  {
   "cell_type": "code",
   "execution_count": 2,
   "metadata": {},
   "outputs": [],
   "source": [
    "selected_py_data = [i for i in py_data[:100][\"content\"] if bool(re.search(r'\\d', i))]\n",
    "selected_java_data = [i for i in java_data[:100][\"content\"] if bool(re.search(r'int ', i)) and bool(re.search(r'\\d', i))]"
   ]
  },
  {
   "cell_type": "code",
   "execution_count": 50,
   "metadata": {},
   "outputs": [],
   "source": [
    "def crop_int_function(selected_data):\n",
    "    edited_data = {\"python\":[]}\n",
    "    for ex in selected_data[:1]:\n",
    "        # cut out function with int\n",
    "        ints = re.findall(r'\\n\\n *def[\\w\\W]*?:[\\w\\W]*?\\d[\\w\\W]*?\\n', ex)\n",
    "        unrolled = [i.split(\"\\n\\n\")[-1] for i in ints]\n",
    "        edited_data[\"python\"] += unrolled\n",
    "    return Dataset.from_dict(edited_data)\n",
    "\n",
    "py_data = crop_int_function(selected_py_data)"
   ]
  },
  {
   "cell_type": "code",
   "execution_count": 53,
   "metadata": {},
   "outputs": [
    {
     "name": "stderr",
     "output_type": "stream",
     "text": [
      "                                                                                      \r"
     ]
    }
   ],
   "source": [
    "py_data.save_to_disk(\"data/python_int_functions.parquet\")"
   ]
  },
  {
   "cell_type": "code",
   "execution_count": null,
   "metadata": {},
   "outputs": [],
   "source": []
  }
 ],
 "metadata": {
  "kernelspec": {
   "display_name": "mechinterp",
   "language": "python",
   "name": "python3"
  },
  "language_info": {
   "codemirror_mode": {
    "name": "ipython",
    "version": 3
   },
   "file_extension": ".py",
   "mimetype": "text/x-python",
   "name": "python",
   "nbconvert_exporter": "python",
   "pygments_lexer": "ipython3",
   "version": "3.10.6"
  },
  "orig_nbformat": 4
 },
 "nbformat": 4,
 "nbformat_minor": 2
}
