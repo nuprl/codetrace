{
 "cells": [
  {
   "cell_type": "code",
   "execution_count": 1,
   "metadata": {},
   "outputs": [
    {
     "name": "stderr",
     "output_type": "stream",
     "text": [
      "/home/franlucc/mechinterp/lib/python3.10/site-packages/tqdm/auto.py:21: TqdmWarning: IProgress not found. Please update jupyter and ipywidgets. See https://ipywidgets.readthedocs.io/en/stable/user_install.html\n",
      "  from .autonotebook import tqdm as notebook_tqdm\n",
      "Found cached dataset parquet (/home/franlucc/.cache/huggingface/datasets/bigcode___parquet/bigcode--the-stack-feef6e400b84213f/0.0.0/2a3b91fbd88a2c90d1dbbb32b460cf621d31bd5b05b934492fdef7d8d6f236ec)\n",
      "Found cached dataset parquet (/home/franlucc/.cache/huggingface/datasets/bigcode___parquet/bigcode--the-stack-9f45e66b86f2b01e/0.0.0/2a3b91fbd88a2c90d1dbbb32b460cf621d31bd5b05b934492fdef7d8d6f236ec)\n"
     ]
    }
   ],
   "source": [
    "%load_ext autoreload\n",
    "%autoreload 2\n",
    "from datasets import *\n",
    "import re\n",
    "\n",
    "py_data = load_dataset(\"bigcode/the-stack\", split=\"train\", data_files=\"data/python/train-00000-of-00206.parquet\")\n",
    "java_data = load_dataset(\"bigcode/the-stack\", split=\"train\", data_files=\"data/java/train-00005-of-00285.parquet\")"
   ]
  },
  {
   "cell_type": "code",
   "execution_count": 16,
   "metadata": {},
   "outputs": [],
   "source": [
    "selected_py_data = [i for i in py_data[:100][\"content\"] if bool(re.search(r'\\d', i))]\n",
    "selected_java_data = [i for i in java_data[:100][\"content\"] if bool(re.search(r'int ', i)) and bool(re.search(r'\\d', i))]"
   ]
  },
  {
   "cell_type": "code",
   "execution_count": 17,
   "metadata": {},
   "outputs": [],
   "source": [
    "def crop_int_function(selected_data):\n",
    "    edited_data = {\"python\":[]}\n",
    "    for ex in selected_data:\n",
    "        # cut out function with int\n",
    "        ints = re.findall(r'\\n\\n *def[\\w\\W]*?:[\\w\\W]*?\\d[\\w\\W]*?\\n', ex)\n",
    "        unrolled = [i.split(\"\\n\\n\")[-1] for i in ints]\n",
    "        edited_data[\"python\"] += unrolled\n",
    "    return Dataset.from_dict(edited_data)\n",
    "\n",
    "py_data = crop_int_function(selected_py_data)"
   ]
  },
  {
   "cell_type": "code",
   "execution_count": 26,
   "metadata": {},
   "outputs": [
    {
     "name": "stderr",
     "output_type": "stream",
     "text": [
      "Saving the dataset (0/1 shards):   0%|          | 0/399 [00:00<?, ? examples/s]"
     ]
    },
    {
     "name": "stderr",
     "output_type": "stream",
     "text": [
      "                                                                                            \r"
     ]
    }
   ],
   "source": [
    "len(py_data)\n",
    "\n",
    "py_data.save_to_disk(\"../data/python_int_funcs.parquet\")"
   ]
  },
  {
   "cell_type": "code",
   "execution_count": 27,
   "metadata": {},
   "outputs": [
    {
     "data": {
      "text/plain": [
       "399"
      ]
     },
     "execution_count": 27,
     "metadata": {},
     "output_type": "execute_result"
    }
   ],
   "source": [
    "len(load_from_disk(\"../data/python_int_funcs.parquet\"))"
   ]
  },
  {
   "cell_type": "code",
   "execution_count": 2,
   "metadata": {},
   "outputs": [
    {
     "name": "stderr",
     "output_type": "stream",
     "text": [
      "Downloading readme: 100%|██████████| 457/457 [00:00<00:00, 392kB/s]\n"
     ]
    },
    {
     "name": "stdout",
     "output_type": "stream",
     "text": [
      "Downloading and preparing dataset None/None to /home/franlucc/.cache/huggingface/datasets/nuprl___parquet/nuprl--stack-dedup-python-fns-returns-typechecks-4eeb9fc26e67528b/0.0.0/2a3b91fbd88a2c90d1dbbb32b460cf621d31bd5b05b934492fdef7d8d6f236ec...\n"
     ]
    },
    {
     "name": "stderr",
     "output_type": "stream",
     "text": [
      "Downloading data: 100%|██████████| 149M/149M [00:03<00:00, 42.6MB/s]\n",
      "Downloading data files: 100%|██████████| 1/1 [00:04<00:00,  4.24s/it]\n",
      "Extracting data files: 100%|██████████| 1/1 [00:00<00:00, 750.86it/s]\n",
      "                                                                                          \r"
     ]
    },
    {
     "name": "stdout",
     "output_type": "stream",
     "text": [
      "Dataset parquet downloaded and prepared to /home/franlucc/.cache/huggingface/datasets/nuprl___parquet/nuprl--stack-dedup-python-fns-returns-typechecks-4eeb9fc26e67528b/0.0.0/2a3b91fbd88a2c90d1dbbb32b460cf621d31bd5b05b934492fdef7d8d6f236ec. Subsequent calls will reuse this data.\n"
     ]
    }
   ],
   "source": [
    "dataset = load_dataset(\"nuprl/stack-dedup-python-fns-returns-typechecks\", split=\"train\")"
   ]
  },
  {
   "cell_type": "code",
   "execution_count": 43,
   "metadata": {},
   "outputs": [
    {
     "name": "stderr",
     "output_type": "stream",
     "text": [
      "Found cached dataset parquet (/home/franlucc/.cache/huggingface/datasets/nuprl___parquet/nuprl--stack-dedup-python-testgen-starcoder-3806945f8dbcae94/0.0.0/2a3b91fbd88a2c90d1dbbb32b460cf621d31bd5b05b934492fdef7d8d6f236ec)\n"
     ]
    }
   ],
   "source": [
    "dataset = load_dataset(\"nuprl/stack-dedup-python-testgen-starcoder\", split=\"train\")"
   ]
  },
  {
   "cell_type": "code",
   "execution_count": 3,
   "metadata": {},
   "outputs": [],
   "source": [
    "int_data = {\"examples\" : []}\n",
    "for ex in dataset[\"content\"]:\n",
    "    if [] != re.findall(r': int ', ex):\n",
    "        int_data[\"examples\"].append(ex)"
   ]
  },
  {
   "cell_type": "code",
   "execution_count": 8,
   "metadata": {},
   "outputs": [
    {
     "name": "stdout",
     "output_type": "stream",
     "text": [
      "def mover_alfil(tablero, x_inicial, y_inicial, x_final, y_final):\n",
      "    \"\"\"\n",
      "    (list of list, int, int, int, int) -> list of list\n",
      "\n",
      "    :param tablero: list of list que representa el tablero\n",
      "    :param x_inicial: int que representa la posicion inicial en X\n",
      "    :param y_inicial: int que representa la posicion inicial en Y\n",
      "    :param x_final: int que representa la posicion final en X\n",
      "    :param y_final: int que representa la posicion final en Y\n",
      "    :return: list of list que representa un tablero final\n",
      "    \"\"\"\n",
      "    tab = tablero.copy()\n",
      "    if ((x_inicial - y_inicial == x_final - y_final) or (x_inicial + y_inicial == x_final + y_final)) and tab[x_inicial][y_final].lower() == 'a':\n",
      "        if (x_inicial != x_final) and (y_inicial != y_final):\n",
      "            for x in range(x_inicial +1, x_final):\n",
      "                if tab[x][y_final] != ' ':\n",
      "                    raise ValueError('El camino no es valido')\n",
      "            for y in range(y_inicial +1, y_final):\n",
      "                if tab[x_final][y] != ' ':\n",
      "                    raise ValueError('El camino no es valido')\n",
      "        tab[x_final][y_final] = 'a'\n",
      "        tab[x_inicial][y_inicial] = ' '\n",
      "    return tab\n"
     ]
    }
   ],
   "source": [
    "print(int_data[\"examples\"][0])"
   ]
  },
  {
   "cell_type": "code",
   "execution_count": 9,
   "metadata": {},
   "outputs": [
    {
     "name": "stderr",
     "output_type": "stream",
     "text": [
      "                                                                                               \r"
     ]
    }
   ],
   "source": [
    "int_data = Dataset.from_dict(int_data)\n",
    "int_data.save_to_disk(\"../data/py_int_var_funcs_large.parquet\")"
   ]
  },
  {
   "cell_type": "code",
   "execution_count": null,
   "metadata": {},
   "outputs": [],
   "source": []
  }
 ],
 "metadata": {
  "kernelspec": {
   "display_name": "mechinterp",
   "language": "python",
   "name": "python3"
  },
  "language_info": {
   "codemirror_mode": {
    "name": "ipython",
    "version": 3
   },
   "file_extension": ".py",
   "mimetype": "text/x-python",
   "name": "python",
   "nbconvert_exporter": "python",
   "pygments_lexer": "ipython3",
   "version": "3.10.6"
  },
  "orig_nbformat": 4
 },
 "nbformat": 4,
 "nbformat_minor": 2
}
