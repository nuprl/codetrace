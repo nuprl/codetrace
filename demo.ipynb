{
 "cells": [
  {
   "cell_type": "markdown",
   "metadata": {},
   "source": [
    "## Syntax-dependent trace\n",
    "\n"
   ]
  },
  {
   "cell_type": "code",
   "execution_count": null,
   "metadata": {},
   "outputs": [],
   "source": [
    "%load_ext autoreload\n",
    "%autoreload 2"
   ]
  },
  {
   "cell_type": "code",
   "execution_count": 1,
   "metadata": {},
   "outputs": [
    {
     "name": "stderr",
     "output_type": "stream",
     "text": [
      "/home/lucchetti.f/.local/lib/python3.7/site-packages/tqdm/auto.py:22: TqdmWarning: IProgress not found. Please update jupyter and ipywidgets. See https://ipywidgets.readthedocs.io/en/stable/user_install.html\n",
      "  from .autonotebook import tqdm as notebook_tqdm\n"
     ]
    },
    {
     "name": "stdout",
     "output_type": "stream",
     "text": [
      "0 / 34079899648 used for device 0, reserved 0\n"
     ]
    }
   ],
   "source": [
    "import os\n",
    "CACHE_DIR = \"/scratch/lucchetti.f/models/\"\n",
    "os.environ['TRANSFORMERS_CACHE'] = CACHE_DIR\n",
    "\n",
    "\n",
    "import sys\n",
    "sys.path.append('..')\n",
    "\n",
    "import gc\n",
    "import torch\n",
    "from model_utils import check_devs, clear_devs\n",
    "import tqdm as notebook_tqdm\n",
    "from model import ModelLoader\n",
    "\n",
    "# from model_loader import ModelLoader\n",
    "# from model_manager import ModelManager\n",
    "# from transformers import AutoModelForCausalLM, AutoTokenizer, AutoConfig\n",
    "\n",
    "#MODEL_NAME = \"Salesforce/codegen-16B-mono\"\n",
    "MODEL_NAME = \"bigcode/santacoder\"\n",
    "\n",
    "check_devs()"
   ]
  },
  {
   "cell_type": "code",
   "execution_count": null,
   "metadata": {},
   "outputs": [
    {
     "name": "stderr",
     "output_type": "stream",
     "text": [
      "Explicitly passing a `revision` is encouraged when loading a configuration with custom code to ensure no malicious code has been contributed in a newer revision.\n",
      "Explicitly passing a `revision` is encouraged when loading a model with custom code to ensure no malicious code has been contributed in a newer revision.\n"
     ]
    }
   ],
   "source": [
    "lm = ModelLoader(MODEL_NAME)\n",
    "lm.model"
   ]
  },
  {
   "cell_type": "code",
   "execution_count": null,
   "metadata": {},
   "outputs": [],
   "source": [
    "check_devs()"
   ]
  },
  {
   "cell_type": "markdown",
   "metadata": {},
   "source": [
    "## Inference"
   ]
  },
  {
   "cell_type": "code",
   "execution_count": null,
   "metadata": {},
   "outputs": [],
   "source": [
    "model = lm.model\n",
    "tokenizer = lm.tokenizer\n",
    "\n",
    "prompts = [\"\"\"# intialize three integers\n",
    "           int x = 1\n",
    "           int y = 2\n",
    "           int z =\"\"\"]\n",
    "\n",
    "prompts = [\"\"\"int x =\"\"\"]\n",
    "\n",
    "# vanilla generate:\n",
    "\n",
    "tokenized = tokenizer(prompts, return_tensors=\"pt\")\n",
    "outputs = model.generate(tokenized.input_ids.to(model.device), max_new_tokens=2, top_k = 1)\n",
    "tokenizer.decode(outputs[0])"
   ]
  },
  {
   "cell_type": "markdown",
   "metadata": {},
   "source": [
    "## Trace + activation patch"
   ]
  },
  {
   "cell_type": "code",
   "execution_count": null,
   "metadata": {},
   "outputs": [],
   "source": [
    "txt, ret_dict = mt.generate(\n",
    "    prompts,\n",
    "    argmax_greedy= True,\n",
    "    debug = True,\n",
    "    request_activations= [mt.layer_name_format.format(i) for i in range(5,10)]\n",
    ")\n",
    "txt"
   ]
  },
  {
   "cell_type": "code",
   "execution_count": null,
   "metadata": {},
   "outputs": [],
   "source": []
  }
 ],
 "metadata": {
  "kernelspec": {
   "display_name": "Python 3 (ipykernel)",
   "language": "python",
   "name": "python3"
  },
  "language_info": {
   "codemirror_mode": {
    "name": "ipython",
    "version": 3
   },
   "file_extension": ".py",
   "mimetype": "text/x-python",
   "name": "python",
   "nbconvert_exporter": "python",
   "pygments_lexer": "ipython3",
   "version": "3.7.11"
  }
 },
 "nbformat": 4,
 "nbformat_minor": 4
}
